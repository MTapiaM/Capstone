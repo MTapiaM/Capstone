{
  "nbformat": 4,
  "nbformat_minor": 0,
  "metadata": {
    "colab": {
      "provenance": [],
      "collapsed_sections": [],
      "authorship_tag": "ABX9TyNOwDNhQszqGy4nMniYna2J",
      "include_colab_link": true
    },
    "kernelspec": {
      "name": "python3",
      "display_name": "Python 3"
    },
    "language_info": {
      "name": "python"
    }
  },
  "cells": [
    {
      "cell_type": "markdown",
      "metadata": {
        "id": "view-in-github",
        "colab_type": "text"
      },
      "source": [
        "<a href=\"https://colab.research.google.com/github/MTapiaM/Capstone/blob/main/Week_3_p1.ipynb\" target=\"_parent\"><img src=\"https://colab.research.google.com/assets/colab-badge.svg\" alt=\"Open In Colab\"/></a>"
      ]
    },
    {
      "cell_type": "markdown",
      "source": [
        "# IBM Applied Data Science Capstone Course by Coursera\n",
        "Semana 3 Parte 1\n",
        "Construir un marco de datos del código postal de cada barrio junto con el nombre del distrito y el nombre del barrio en Toronto.\n",
        "1. Importar librerias"
      ],
      "metadata": {
        "id": "-4rvOElpWIWq"
      }
    },
    {
      "cell_type": "code",
      "source": [
        "import numpy as np # library to handle data in a vectorized manner\n",
        "\n",
        "import pandas as pd # library for data analsysis\n",
        "pd.set_option(\"display.max_columns\", None)\n",
        "pd.set_option(\"display.max_rows\", None)\n",
        "\n",
        "import json # library to handle JSON files\n",
        "\n",
        "from geopy.geocoders import Nominatim # convert an address into latitude and longitude values\n",
        "\n",
        "import requests # library to handle requests\n",
        "from bs4 import BeautifulSoup # library to parse HTML and XML documents\n",
        "\n",
        "from pandas.io.json import json_normalize # tranform JSON file into a pandas dataframe\n",
        "\n",
        "# Matplotlib and associated plotting modules\n",
        "import matplotlib.cm as cm\n",
        "import matplotlib.colors as colors\n",
        "\n",
        "# import k-means from clustering stage\n",
        "from sklearn.cluster import KMeans\n",
        "\n",
        "import folium # map rendering library\n",
        "\n",
        "print(\"Libraries imported.\")"
      ],
      "metadata": {
        "id": "Qk088piwWFQ5",
        "colab": {
          "base_uri": "https://localhost:8080/"
        },
        "outputId": "c11a456c-48aa-4851-8173-f27951bf7796"
      },
      "execution_count": null,
      "outputs": [
        {
          "output_type": "stream",
          "name": "stdout",
          "text": [
            "Libraries imported.\n"
          ]
        }
      ]
    },
    {
      "cell_type": "markdown",
      "source": [],
      "metadata": {
        "id": "RXig5-TFGE79"
      }
    }
  ]
}